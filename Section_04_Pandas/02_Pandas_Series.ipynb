{
 "cells": [
  {
   "cell_type": "code",
   "id": "initial_id",
   "metadata": {
    "collapsed": true,
    "ExecuteTime": {
     "end_time": "2024-07-18T12:56:59.100478Z",
     "start_time": "2024-07-18T12:56:58.531650Z"
    }
   },
   "source": "import pandas as pd",
   "outputs": [],
   "execution_count": 1
  },
  {
   "metadata": {
    "ExecuteTime": {
     "end_time": "2024-07-18T12:57:04.870496Z",
     "start_time": "2024-07-18T12:57:04.866266Z"
    }
   },
   "cell_type": "code",
   "source": "a = [1, 7, 2]",
   "id": "822f7220f709f14e",
   "outputs": [],
   "execution_count": 2
  },
  {
   "metadata": {
    "ExecuteTime": {
     "end_time": "2024-07-18T12:57:10.165270Z",
     "start_time": "2024-07-18T12:57:10.160311Z"
    }
   },
   "cell_type": "code",
   "source": "myvar = pd.Series(a)",
   "id": "9c53f7d811884747",
   "outputs": [],
   "execution_count": 3
  },
  {
   "metadata": {
    "ExecuteTime": {
     "end_time": "2024-07-18T12:57:12.282337Z",
     "start_time": "2024-07-18T12:57:12.276773Z"
    }
   },
   "cell_type": "code",
   "source": "print(myvar)",
   "id": "6d14063ed0e26395",
   "outputs": [
    {
     "name": "stdout",
     "output_type": "stream",
     "text": [
      "0    1\n",
      "1    7\n",
      "2    2\n",
      "dtype: int64\n"
     ]
    }
   ],
   "execution_count": 4
  },
  {
   "metadata": {
    "ExecuteTime": {
     "end_time": "2024-07-18T12:57:38.202455Z",
     "start_time": "2024-07-18T12:57:38.198593Z"
    }
   },
   "cell_type": "code",
   "source": "sample = {\"day1\": 420, \"day2\": 380, \"day3\": 390}",
   "id": "20c5bd3338ebb940",
   "outputs": [],
   "execution_count": 5
  },
  {
   "metadata": {
    "ExecuteTime": {
     "end_time": "2024-07-18T12:57:39.920053Z",
     "start_time": "2024-07-18T12:57:39.914766Z"
    }
   },
   "cell_type": "code",
   "source": "myvar = pd.Series(sample)",
   "id": "c48c35b8f9841423",
   "outputs": [],
   "execution_count": 6
  },
  {
   "metadata": {
    "ExecuteTime": {
     "end_time": "2024-07-18T12:57:42.699112Z",
     "start_time": "2024-07-18T12:57:42.693691Z"
    }
   },
   "cell_type": "code",
   "source": "print(myvar)",
   "id": "5fc8c25070f8f9ed",
   "outputs": [
    {
     "name": "stdout",
     "output_type": "stream",
     "text": [
      "day1    420\n",
      "day2    380\n",
      "day3    390\n",
      "dtype: int64\n"
     ]
    }
   ],
   "execution_count": 7
  },
  {
   "metadata": {
    "ExecuteTime": {
     "end_time": "2024-07-18T12:58:54.827381Z",
     "start_time": "2024-07-18T12:58:54.821866Z"
    }
   },
   "cell_type": "code",
   "source": "l1 = [3, 6, 8, 10, 30]",
   "id": "7722a5463e6016e7",
   "outputs": [],
   "execution_count": 8
  },
  {
   "metadata": {
    "ExecuteTime": {
     "end_time": "2024-07-18T12:59:05.566299Z",
     "start_time": "2024-07-18T12:59:05.562441Z"
    }
   },
   "cell_type": "code",
   "source": "s1 = pd.Series(l1)",
   "id": "b9c24de3cbf73c38",
   "outputs": [],
   "execution_count": 9
  },
  {
   "metadata": {
    "ExecuteTime": {
     "end_time": "2024-07-18T12:59:08.444683Z",
     "start_time": "2024-07-18T12:59:08.437045Z"
    }
   },
   "cell_type": "code",
   "source": "s1",
   "id": "2d9f0d5839021f1f",
   "outputs": [
    {
     "data": {
      "text/plain": [
       "0     3\n",
       "1     6\n",
       "2     8\n",
       "3    10\n",
       "4    30\n",
       "dtype: int64"
      ]
     },
     "execution_count": 10,
     "metadata": {},
     "output_type": "execute_result"
    }
   ],
   "execution_count": 10
  },
  {
   "metadata": {
    "ExecuteTime": {
     "end_time": "2024-07-18T13:00:00.167642Z",
     "start_time": "2024-07-18T13:00:00.163740Z"
    }
   },
   "cell_type": "code",
   "source": "d1 = {\"one\": 10, \"seconde\": 100, \"third\": 1000}",
   "id": "b1fbfec30e20ce7f",
   "outputs": [],
   "execution_count": 11
  },
  {
   "metadata": {
    "ExecuteTime": {
     "end_time": "2024-07-18T13:00:12.541518Z",
     "start_time": "2024-07-18T13:00:12.537235Z"
    }
   },
   "cell_type": "code",
   "source": "s2 = pd.Series(d1)",
   "id": "fe6612c86790a4ec",
   "outputs": [],
   "execution_count": 12
  },
  {
   "metadata": {
    "ExecuteTime": {
     "end_time": "2024-07-18T13:00:20.304227Z",
     "start_time": "2024-07-18T13:00:20.297759Z"
    }
   },
   "cell_type": "code",
   "source": "s2",
   "id": "9ba849539a8be8c6",
   "outputs": [
    {
     "data": {
      "text/plain": [
       "one          10\n",
       "seconde     100\n",
       "third      1000\n",
       "dtype: int64"
      ]
     },
     "execution_count": 13,
     "metadata": {},
     "output_type": "execute_result"
    }
   ],
   "execution_count": 13
  }
 ],
 "metadata": {
  "kernelspec": {
   "display_name": "Python 3",
   "language": "python",
   "name": "python3"
  },
  "language_info": {
   "codemirror_mode": {
    "name": "ipython",
    "version": 2
   },
   "file_extension": ".py",
   "mimetype": "text/x-python",
   "name": "python",
   "nbconvert_exporter": "python",
   "pygments_lexer": "ipython2",
   "version": "2.7.6"
  }
 },
 "nbformat": 4,
 "nbformat_minor": 5
}
