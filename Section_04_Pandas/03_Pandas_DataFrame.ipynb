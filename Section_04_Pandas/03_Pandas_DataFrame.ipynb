{
 "cells": [
  {
   "cell_type": "code",
   "id": "initial_id",
   "metadata": {
    "collapsed": true,
    "ExecuteTime": {
     "end_time": "2024-07-18T13:30:05.713971Z",
     "start_time": "2024-07-18T13:30:04.959618Z"
    }
   },
   "source": "import pandas as pd",
   "outputs": [],
   "execution_count": 1
  },
  {
   "metadata": {
    "ExecuteTime": {
     "end_time": "2024-07-18T13:30:24.007263Z",
     "start_time": "2024-07-18T13:30:24.002957Z"
    }
   },
   "cell_type": "code",
   "source": [
    "data = {\n",
    "    \"calories\": [420, 380, 390],\n",
    "    \"duration\": [50, 40, 45]\n",
    "}"
   ],
   "id": "b5cccfe06d3ab372",
   "outputs": [],
   "execution_count": 2
  },
  {
   "metadata": {
    "ExecuteTime": {
     "end_time": "2024-07-18T13:30:25.488088Z",
     "start_time": "2024-07-18T13:30:25.484557Z"
    }
   },
   "cell_type": "code",
   "source": "df = pd.DataFrame(data)",
   "id": "4470772cfbe3c9e9",
   "outputs": [],
   "execution_count": 3
  },
  {
   "metadata": {
    "ExecuteTime": {
     "end_time": "2024-07-18T13:30:26.918171Z",
     "start_time": "2024-07-18T13:30:26.911260Z"
    }
   },
   "cell_type": "code",
   "source": "print(df)",
   "id": "131b31d7e6f1952",
   "outputs": [
    {
     "name": "stdout",
     "output_type": "stream",
     "text": [
      "   calories  duration\n",
      "0       420        50\n",
      "1       380        40\n",
      "2       390        45\n"
     ]
    }
   ],
   "execution_count": 4
  },
  {
   "metadata": {
    "ExecuteTime": {
     "end_time": "2024-07-18T13:31:54.360710Z",
     "start_time": "2024-07-18T13:31:54.352070Z"
    }
   },
   "cell_type": "code",
   "source": "df.loc[0]",
   "id": "594dbce8cbaa93d8",
   "outputs": [
    {
     "data": {
      "text/plain": [
       "calories    420\n",
       "duration     50\n",
       "Name: 0, dtype: int64"
      ]
     },
     "execution_count": 5,
     "metadata": {},
     "output_type": "execute_result"
    }
   ],
   "execution_count": 5
  },
  {
   "metadata": {
    "ExecuteTime": {
     "end_time": "2024-07-18T13:33:55.882058Z",
     "start_time": "2024-07-18T13:33:55.876455Z"
    }
   },
   "cell_type": "code",
   "source": [
    "sample_data = {\n",
    "    \"weekdays\": [\"Sunday\", \"Monday\", \"Tuesday\"],\n",
    "    \"test_score\": [10, 20, 30]\n",
    "}"
   ],
   "id": "134f505b4fe84c9d",
   "outputs": [],
   "execution_count": 6
  },
  {
   "metadata": {
    "ExecuteTime": {
     "end_time": "2024-07-18T13:34:01.069033Z",
     "start_time": "2024-07-18T13:34:01.063905Z"
    }
   },
   "cell_type": "code",
   "source": "df = pd.DataFrame(sample_data)",
   "id": "63d633f04ada623f",
   "outputs": [],
   "execution_count": 7
  },
  {
   "metadata": {
    "ExecuteTime": {
     "end_time": "2024-07-18T13:34:04.576875Z",
     "start_time": "2024-07-18T13:34:04.568979Z"
    }
   },
   "cell_type": "code",
   "source": "df",
   "id": "383efd2db3adaaa7",
   "outputs": [
    {
     "data": {
      "text/plain": [
       "  weekdays  test_score\n",
       "0   Sunday          10\n",
       "1   Monday          20\n",
       "2  Tuesday          30"
      ],
      "text/html": [
       "<div>\n",
       "<style scoped>\n",
       "    .dataframe tbody tr th:only-of-type {\n",
       "        vertical-align: middle;\n",
       "    }\n",
       "\n",
       "    .dataframe tbody tr th {\n",
       "        vertical-align: top;\n",
       "    }\n",
       "\n",
       "    .dataframe thead th {\n",
       "        text-align: right;\n",
       "    }\n",
       "</style>\n",
       "<table border=\"1\" class=\"dataframe\">\n",
       "  <thead>\n",
       "    <tr style=\"text-align: right;\">\n",
       "      <th></th>\n",
       "      <th>weekdays</th>\n",
       "      <th>test_score</th>\n",
       "    </tr>\n",
       "  </thead>\n",
       "  <tbody>\n",
       "    <tr>\n",
       "      <th>0</th>\n",
       "      <td>Sunday</td>\n",
       "      <td>10</td>\n",
       "    </tr>\n",
       "    <tr>\n",
       "      <th>1</th>\n",
       "      <td>Monday</td>\n",
       "      <td>20</td>\n",
       "    </tr>\n",
       "    <tr>\n",
       "      <th>2</th>\n",
       "      <td>Tuesday</td>\n",
       "      <td>30</td>\n",
       "    </tr>\n",
       "  </tbody>\n",
       "</table>\n",
       "</div>"
      ]
     },
     "execution_count": 8,
     "metadata": {},
     "output_type": "execute_result"
    }
   ],
   "execution_count": 8
  },
  {
   "metadata": {
    "ExecuteTime": {
     "end_time": "2024-07-18T13:34:39.864661Z",
     "start_time": "2024-07-18T13:34:39.857547Z"
    }
   },
   "cell_type": "code",
   "source": "df.loc[0]",
   "id": "7615c394ecc5bd35",
   "outputs": [
    {
     "data": {
      "text/plain": [
       "weekdays      Sunday\n",
       "test_score        10\n",
       "Name: 0, dtype: object"
      ]
     },
     "execution_count": 9,
     "metadata": {},
     "output_type": "execute_result"
    }
   ],
   "execution_count": 9
  }
 ],
 "metadata": {
  "kernelspec": {
   "display_name": "Python 3",
   "language": "python",
   "name": "python3"
  },
  "language_info": {
   "codemirror_mode": {
    "name": "ipython",
    "version": 2
   },
   "file_extension": ".py",
   "mimetype": "text/x-python",
   "name": "python",
   "nbconvert_exporter": "python",
   "pygments_lexer": "ipython2",
   "version": "2.7.6"
  }
 },
 "nbformat": 4,
 "nbformat_minor": 5
}
